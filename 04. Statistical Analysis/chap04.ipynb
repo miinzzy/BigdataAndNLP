{
  "nbformat": 4,
  "nbformat_minor": 0,
  "metadata": {
    "kernelspec": {
      "display_name": "Python 3",
      "language": "python",
      "name": "python3"
    },
    "language_info": {
      "codemirror_mode": {
        "name": "ipython",
        "version": 3
      },
      "file_extension": ".py",
      "mimetype": "text/x-python",
      "name": "python",
      "nbconvert_exporter": "python",
      "pygments_lexer": "ipython3",
      "version": "3.7.4"
    },
    "toc": {
      "nav_menu": {},
      "number_sections": true,
      "sideBar": true,
      "skip_h1_title": false,
      "toc_cell": false,
      "toc_position": {},
      "toc_section_display": "block",
      "toc_window_display": false
    },
    "colab": {
      "name": "chap04.ipynb",
      "provenance": [],
      "collapsed_sections": []
    }
  },
  "cells": [
    {
      "cell_type": "markdown",
      "metadata": {
        "id": "p41OiSZ068bk"
      },
      "source": [
        "# 추측통계의 기본"
      ]
    },
    {
      "cell_type": "markdown",
      "metadata": {
        "ExecuteTime": {
          "end_time": "2018-03-06T03:37:40.696920Z",
          "start_time": "2018-03-06T03:37:40.690655Z"
        },
        "id": "UtepEFK468bq"
      },
      "source": [
        "## 모집단과 표본"
      ]
    },
    {
      "cell_type": "markdown",
      "metadata": {
        "id": "SVw3coy768bq"
      },
      "source": [
        "### 표본의 추출방법"
      ]
    },
    {
      "cell_type": "code",
      "metadata": {
        "ExecuteTime": {
          "end_time": "2018-08-18T08:14:56.358857Z",
          "start_time": "2018-08-18T08:14:56.124816Z"
        },
        "id": "wvQVY8tT68bq"
      },
      "source": [
        "import numpy as np\n",
        "import pandas as pd\n",
        "import matplotlib.pyplot as plt\n",
        "\n",
        "%precision 3\n",
        "%matplotlib inline"
      ],
      "execution_count": 3,
      "outputs": []
    },
    {
      "cell_type": "code",
      "metadata": {
        "ExecuteTime": {
          "end_time": "2018-08-18T08:15:59.206470Z",
          "start_time": "2018-08-18T08:15:59.202081Z"
        },
        "id": "Nwars9uI68br",
        "colab": {
          "base_uri": "https://localhost:8080/"
        },
        "outputId": "e79a8181-d977-4705-f60a-2550e88c0cd5"
      },
      "source": [
        "df = pd.read_csv('./sample_data/ch4_scores400.csv')\n",
        "scores = np.array(df['score'])\n",
        "scores[:10]"
      ],
      "execution_count": 4,
      "outputs": [
        {
          "output_type": "execute_result",
          "data": {
            "text/plain": [
              "array([76, 55, 80, 80, 74, 61, 81, 76, 23, 80])"
            ]
          },
          "metadata": {},
          "execution_count": 4
        }
      ]
    },
    {
      "cell_type": "code",
      "metadata": {
        "ExecuteTime": {
          "end_time": "2018-08-14T06:47:18.710063Z",
          "start_time": "2018-08-14T06:47:18.706621Z"
        },
        "id": "bufEUTYB68bs",
        "colab": {
          "base_uri": "https://localhost:8080/"
        },
        "outputId": "6b077c67-0b4d-4f4c-879f-54cdd71e1b81"
      },
      "source": [
        "np.random.choice([1, 2, 3], 3)"
      ],
      "execution_count": 5,
      "outputs": [
        {
          "output_type": "execute_result",
          "data": {
            "text/plain": [
              "array([1, 1, 3])"
            ]
          },
          "metadata": {},
          "execution_count": 5
        }
      ]
    },
    {
      "cell_type": "code",
      "metadata": {
        "ExecuteTime": {
          "end_time": "2018-08-14T06:47:18.714348Z",
          "start_time": "2018-08-14T06:47:18.711029Z"
        },
        "id": "DMeUZw2f68bs",
        "colab": {
          "base_uri": "https://localhost:8080/"
        },
        "outputId": "54254678-5493-4ae2-d9cc-947c5d72bf4d"
      },
      "source": [
        "np.random.choice([1, 2, 3], 3, replace=False)"
      ],
      "execution_count": 6,
      "outputs": [
        {
          "output_type": "execute_result",
          "data": {
            "text/plain": [
              "array([2, 3, 1])"
            ]
          },
          "metadata": {},
          "execution_count": 6
        }
      ]
    },
    {
      "cell_type": "code",
      "metadata": {
        "ExecuteTime": {
          "end_time": "2018-08-14T06:47:18.718669Z",
          "start_time": "2018-08-14T06:47:18.715323Z"
        },
        "id": "3yVepCjX68bt",
        "colab": {
          "base_uri": "https://localhost:8080/"
        },
        "outputId": "31074b4b-d2a8-432c-b73d-f9b06e8ce465"
      },
      "source": [
        "np.random.seed(0)\n",
        "np.random.choice([1, 2, 3], 3)"
      ],
      "execution_count": 7,
      "outputs": [
        {
          "output_type": "execute_result",
          "data": {
            "text/plain": [
              "array([1, 2, 1])"
            ]
          },
          "metadata": {},
          "execution_count": 7
        }
      ]
    },
    {
      "cell_type": "code",
      "metadata": {
        "ExecuteTime": {
          "end_time": "2018-08-14T06:47:18.722968Z",
          "start_time": "2018-08-14T06:47:18.719676Z"
        },
        "id": "br_cT3Zq68bt",
        "colab": {
          "base_uri": "https://localhost:8080/"
        },
        "outputId": "a108f604-bfb3-4a52-f842-711e7534aae6"
      },
      "source": [
        "np.random.seed(0)\n",
        "sample = np.random.choice(scores, 20)\n",
        "\n",
        "sample.mean()"
      ],
      "execution_count": 8,
      "outputs": [
        {
          "output_type": "execute_result",
          "data": {
            "text/plain": [
              "70.400"
            ]
          },
          "metadata": {},
          "execution_count": 8
        }
      ]
    },
    {
      "cell_type": "code",
      "metadata": {
        "ExecuteTime": {
          "end_time": "2018-08-14T06:47:18.726978Z",
          "start_time": "2018-08-14T06:47:18.724063Z"
        },
        "id": "-b9akJoR68bt",
        "colab": {
          "base_uri": "https://localhost:8080/"
        },
        "outputId": "e02133c1-821c-4b44-bb76-fc2f0e1620f1"
      },
      "source": [
        "scores.mean()"
      ],
      "execution_count": 9,
      "outputs": [
        {
          "output_type": "execute_result",
          "data": {
            "text/plain": [
              "69.530"
            ]
          },
          "metadata": {},
          "execution_count": 9
        }
      ]
    },
    {
      "cell_type": "code",
      "metadata": {
        "ExecuteTime": {
          "end_time": "2018-08-14T06:47:18.731373Z",
          "start_time": "2018-08-14T06:47:18.727854Z"
        },
        "id": "tzvkwD1068bt",
        "colab": {
          "base_uri": "https://localhost:8080/"
        },
        "outputId": "21676bf1-b7c2-4eae-d55a-66223e300406"
      },
      "source": [
        "for i in range(5):\n",
        "    sample = np.random.choice(scores, 20)\n",
        "    print(f'{i+1}번째 무작위 추출로 얻은 표본평균', sample.mean())"
      ],
      "execution_count": 10,
      "outputs": [
        {
          "output_type": "stream",
          "name": "stdout",
          "text": [
            "1번째 무작위 추출로 얻은 표본평균 72.45\n",
            "2번째 무작위 추출로 얻은 표본평균 63.7\n",
            "3번째 무작위 추출로 얻은 표본평균 66.05\n",
            "4번째 무작위 추출로 얻은 표본평균 71.7\n",
            "5번째 무작위 추출로 얻은 표본평균 74.15\n"
          ]
        }
      ]
    },
    {
      "cell_type": "markdown",
      "metadata": {
        "id": "34MHjCdN68bu"
      },
      "source": [
        "## 확률 모델"
      ]
    },
    {
      "cell_type": "markdown",
      "metadata": {
        "id": "TCi2dYVU68bu"
      },
      "source": [
        "### 확률의 기본"
      ]
    },
    {
      "cell_type": "markdown",
      "metadata": {
        "ExecuteTime": {
          "end_time": "2018-03-06T10:06:25.135659Z",
          "start_time": "2018-03-06T10:06:25.129307Z"
        },
        "id": "6O8-cotP68bu"
      },
      "source": [
        "### 확률분포"
      ]
    },
    {
      "cell_type": "code",
      "metadata": {
        "ExecuteTime": {
          "end_time": "2018-08-14T06:47:18.735390Z",
          "start_time": "2018-08-14T06:47:18.732292Z"
        },
        "id": "9hj7_dcf68bu"
      },
      "source": [
        "dice = [1, 2, 3, 4, 5, 6]\n",
        "prob = [1/21, 2/21, 3/21, 4/21, 5/21, 6/21]"
      ],
      "execution_count": 11,
      "outputs": []
    },
    {
      "cell_type": "code",
      "metadata": {
        "ExecuteTime": {
          "end_time": "2018-08-14T06:47:18.740013Z",
          "start_time": "2018-08-14T06:47:18.736262Z"
        },
        "id": "PPuUKgiv68bu",
        "colab": {
          "base_uri": "https://localhost:8080/"
        },
        "outputId": "de68850a-c8d8-4280-a1ea-a88573af819f"
      },
      "source": [
        "np.random.choice(dice, p=prob)"
      ],
      "execution_count": 12,
      "outputs": [
        {
          "output_type": "execute_result",
          "data": {
            "text/plain": [
              "1"
            ]
          },
          "metadata": {},
          "execution_count": 12
        }
      ]
    },
    {
      "cell_type": "code",
      "metadata": {
        "ExecuteTime": {
          "end_time": "2018-08-14T06:47:18.744199Z",
          "start_time": "2018-08-14T06:47:18.741030Z"
        },
        "id": "RDSU5Lk968bv",
        "colab": {
          "base_uri": "https://localhost:8080/"
        },
        "outputId": "6ae9f7ed-ae4d-456b-81b4-3d084fbb27e0"
      },
      "source": [
        "num_trial = 100\n",
        "sample = np.random.choice(dice, num_trial, p=prob)\n",
        "sample"
      ],
      "execution_count": 13,
      "outputs": [
        {
          "output_type": "execute_result",
          "data": {
            "text/plain": [
              "array([4, 6, 4, 5, 5, 6, 6, 3, 5, 6, 5, 6, 6, 2, 3, 1, 6, 5, 6, 3, 4, 5,\n",
              "       3, 4, 3, 5, 5, 4, 4, 6, 4, 6, 5, 6, 5, 4, 6, 2, 6, 4, 5, 3, 4, 6,\n",
              "       5, 5, 5, 3, 4, 5, 4, 4, 6, 4, 4, 6, 6, 2, 2, 4, 5, 1, 6, 4, 3, 2,\n",
              "       2, 6, 3, 5, 4, 2, 4, 4, 6, 6, 1, 5, 3, 6, 6, 4, 2, 1, 6, 4, 4, 2,\n",
              "       4, 1, 3, 6, 6, 6, 4, 5, 4, 3, 3, 4])"
            ]
          },
          "metadata": {},
          "execution_count": 13
        }
      ]
    },
    {
      "cell_type": "code",
      "metadata": {
        "ExecuteTime": {
          "end_time": "2018-08-14T06:47:18.752137Z",
          "start_time": "2018-08-14T06:47:18.745175Z"
        },
        "id": "Qx83Ocay68bv",
        "colab": {
          "base_uri": "https://localhost:8080/",
          "height": 269
        },
        "outputId": "e5fdf8cd-72f1-4993-b15f-ad63f299dd8e"
      },
      "source": [
        "freq, _ = np.histogram(sample, bins=6, range=(1, 7))\n",
        "pd.DataFrame({'frequency':freq,\n",
        "              'relative frequency':freq / num_trial},\n",
        "              index = pd.Index(np.arange(1, 7), name='dice'))"
      ],
      "execution_count": 14,
      "outputs": [
        {
          "output_type": "execute_result",
          "data": {
            "text/plain": [
              "      frequency  relative frequency\n",
              "dice                               \n",
              "1             5                0.05\n",
              "2             9                0.09\n",
              "3            13                0.13\n",
              "4            27                0.27\n",
              "5            19                0.19\n",
              "6            27                0.27"
            ],
            "text/html": [
              "\n",
              "  <div id=\"df-f998392e-39ab-4c0f-bfb8-d4f678fdd080\">\n",
              "    <div class=\"colab-df-container\">\n",
              "      <div>\n",
              "<style scoped>\n",
              "    .dataframe tbody tr th:only-of-type {\n",
              "        vertical-align: middle;\n",
              "    }\n",
              "\n",
              "    .dataframe tbody tr th {\n",
              "        vertical-align: top;\n",
              "    }\n",
              "\n",
              "    .dataframe thead th {\n",
              "        text-align: right;\n",
              "    }\n",
              "</style>\n",
              "<table border=\"1\" class=\"dataframe\">\n",
              "  <thead>\n",
              "    <tr style=\"text-align: right;\">\n",
              "      <th></th>\n",
              "      <th>frequency</th>\n",
              "      <th>relative frequency</th>\n",
              "    </tr>\n",
              "    <tr>\n",
              "      <th>dice</th>\n",
              "      <th></th>\n",
              "      <th></th>\n",
              "    </tr>\n",
              "  </thead>\n",
              "  <tbody>\n",
              "    <tr>\n",
              "      <th>1</th>\n",
              "      <td>5</td>\n",
              "      <td>0.05</td>\n",
              "    </tr>\n",
              "    <tr>\n",
              "      <th>2</th>\n",
              "      <td>9</td>\n",
              "      <td>0.09</td>\n",
              "    </tr>\n",
              "    <tr>\n",
              "      <th>3</th>\n",
              "      <td>13</td>\n",
              "      <td>0.13</td>\n",
              "    </tr>\n",
              "    <tr>\n",
              "      <th>4</th>\n",
              "      <td>27</td>\n",
              "      <td>0.27</td>\n",
              "    </tr>\n",
              "    <tr>\n",
              "      <th>5</th>\n",
              "      <td>19</td>\n",
              "      <td>0.19</td>\n",
              "    </tr>\n",
              "    <tr>\n",
              "      <th>6</th>\n",
              "      <td>27</td>\n",
              "      <td>0.27</td>\n",
              "    </tr>\n",
              "  </tbody>\n",
              "</table>\n",
              "</div>\n",
              "      <button class=\"colab-df-convert\" onclick=\"convertToInteractive('df-f998392e-39ab-4c0f-bfb8-d4f678fdd080')\"\n",
              "              title=\"Convert this dataframe to an interactive table.\"\n",
              "              style=\"display:none;\">\n",
              "        \n",
              "  <svg xmlns=\"http://www.w3.org/2000/svg\" height=\"24px\"viewBox=\"0 0 24 24\"\n",
              "       width=\"24px\">\n",
              "    <path d=\"M0 0h24v24H0V0z\" fill=\"none\"/>\n",
              "    <path d=\"M18.56 5.44l.94 2.06.94-2.06 2.06-.94-2.06-.94-.94-2.06-.94 2.06-2.06.94zm-11 1L8.5 8.5l.94-2.06 2.06-.94-2.06-.94L8.5 2.5l-.94 2.06-2.06.94zm10 10l.94 2.06.94-2.06 2.06-.94-2.06-.94-.94-2.06-.94 2.06-2.06.94z\"/><path d=\"M17.41 7.96l-1.37-1.37c-.4-.4-.92-.59-1.43-.59-.52 0-1.04.2-1.43.59L10.3 9.45l-7.72 7.72c-.78.78-.78 2.05 0 2.83L4 21.41c.39.39.9.59 1.41.59.51 0 1.02-.2 1.41-.59l7.78-7.78 2.81-2.81c.8-.78.8-2.07 0-2.86zM5.41 20L4 18.59l7.72-7.72 1.47 1.35L5.41 20z\"/>\n",
              "  </svg>\n",
              "      </button>\n",
              "      \n",
              "  <style>\n",
              "    .colab-df-container {\n",
              "      display:flex;\n",
              "      flex-wrap:wrap;\n",
              "      gap: 12px;\n",
              "    }\n",
              "\n",
              "    .colab-df-convert {\n",
              "      background-color: #E8F0FE;\n",
              "      border: none;\n",
              "      border-radius: 50%;\n",
              "      cursor: pointer;\n",
              "      display: none;\n",
              "      fill: #1967D2;\n",
              "      height: 32px;\n",
              "      padding: 0 0 0 0;\n",
              "      width: 32px;\n",
              "    }\n",
              "\n",
              "    .colab-df-convert:hover {\n",
              "      background-color: #E2EBFA;\n",
              "      box-shadow: 0px 1px 2px rgba(60, 64, 67, 0.3), 0px 1px 3px 1px rgba(60, 64, 67, 0.15);\n",
              "      fill: #174EA6;\n",
              "    }\n",
              "\n",
              "    [theme=dark] .colab-df-convert {\n",
              "      background-color: #3B4455;\n",
              "      fill: #D2E3FC;\n",
              "    }\n",
              "\n",
              "    [theme=dark] .colab-df-convert:hover {\n",
              "      background-color: #434B5C;\n",
              "      box-shadow: 0px 1px 3px 1px rgba(0, 0, 0, 0.15);\n",
              "      filter: drop-shadow(0px 1px 2px rgba(0, 0, 0, 0.3));\n",
              "      fill: #FFFFFF;\n",
              "    }\n",
              "  </style>\n",
              "\n",
              "      <script>\n",
              "        const buttonEl =\n",
              "          document.querySelector('#df-f998392e-39ab-4c0f-bfb8-d4f678fdd080 button.colab-df-convert');\n",
              "        buttonEl.style.display =\n",
              "          google.colab.kernel.accessAllowed ? 'block' : 'none';\n",
              "\n",
              "        async function convertToInteractive(key) {\n",
              "          const element = document.querySelector('#df-f998392e-39ab-4c0f-bfb8-d4f678fdd080');\n",
              "          const dataTable =\n",
              "            await google.colab.kernel.invokeFunction('convertToInteractive',\n",
              "                                                     [key], {});\n",
              "          if (!dataTable) return;\n",
              "\n",
              "          const docLinkHtml = 'Like what you see? Visit the ' +\n",
              "            '<a target=\"_blank\" href=https://colab.research.google.com/notebooks/data_table.ipynb>data table notebook</a>'\n",
              "            + ' to learn more about interactive tables.';\n",
              "          element.innerHTML = '';\n",
              "          dataTable['output_type'] = 'display_data';\n",
              "          await google.colab.output.renderOutput(dataTable, element);\n",
              "          const docLink = document.createElement('div');\n",
              "          docLink.innerHTML = docLinkHtml;\n",
              "          element.appendChild(docLink);\n",
              "        }\n",
              "      </script>\n",
              "    </div>\n",
              "  </div>\n",
              "  "
            ]
          },
          "metadata": {},
          "execution_count": 14
        }
      ]
    },
    {
      "cell_type": "code",
      "metadata": {
        "ExecuteTime": {
          "end_time": "2018-08-14T06:47:18.839357Z",
          "start_time": "2018-08-14T06:47:18.753130Z"
        },
        "id": "Gp6ztsM568bv",
        "colab": {
          "base_uri": "https://localhost:8080/",
          "height": 392
        },
        "outputId": "9ec69579-fe90-4b2e-9cda-959997608442"
      },
      "source": [
        "fig = plt.figure(figsize=(10, 6))\n",
        "ax = fig.add_subplot(111)\n",
        "ax.hist(sample, bins=6, range=(1, 7), density=True, rwidth=0.8)\n",
        "# 실제의 확률분포를 가로선으로 표시\n",
        "ax.hlines(prob, np.arange(1, 7), np.arange(2, 8), colors='gray')\n",
        "# 막대 그래프의 [1.5, 2.5, ..., 6.5]에 눈금을 표시\n",
        "ax.set_xticks(np.linspace(1.5, 6.5, 6))\n",
        "# 주사위 눈의 값은 [1, 2, 3, 4, 5, 6]\n",
        "ax.set_xticklabels(np.arange(1, 7))\n",
        "ax.set_xlabel('dice')\n",
        "ax.set_ylabel('relative frequency')\n",
        "plt.show()"
      ],
      "execution_count": 15,
      "outputs": [
        {
          "output_type": "display_data",
          "data": {
            "text/plain": [
              "<Figure size 720x432 with 1 Axes>"
            ],
            "image/png": "[encoded data removed]"
          },
          "metadata": {
            "needs_background": "light"
          }
        }
      ]
    },
    {
      "cell_type": "code",
      "metadata": {
        "ExecuteTime": {
          "end_time": "2018-08-14T06:47:18.937910Z",
          "start_time": "2018-08-14T06:47:18.840450Z"
        },
        "id": "VwC5Y4YT68bw",
        "colab": {
          "base_uri": "https://localhost:8080/",
          "height": 392
        },
        "outputId": "4a0f2d76-3761-4e19-aaa9-721a1a0b60ec"
      },
      "source": [
        "num_trial = 10000\n",
        "sample = np.random.choice(dice, size=num_trial, p=prob)\n",
        "\n",
        "fig = plt.figure(figsize=(10, 6))\n",
        "ax = fig.add_subplot(111)\n",
        "ax.hist(sample, bins=6, range=(1, 7), density=True, rwidth=0.8)\n",
        "ax.hlines(prob, np.arange(1, 7), np.arange(2, 8), colors='gray')\n",
        "ax.set_xticks(np.linspace(1.5, 6.5, 6))\n",
        "ax.set_xticklabels(np.arange(1, 7))\n",
        "ax.set_xlabel('dice')\n",
        "ax.set_ylabel('relative frequency')\n",
        "plt.show()"
      ],
      "execution_count": 16,
      "outputs": [
        {
          "output_type": "display_data",
          "data": {
            "text/plain": [
              "<Figure size 720x432 with 1 Axes>"
            ],
            "image/png": "[encoded data removed]"
          },
          "metadata": {
            "needs_background": "light"
          }
        }
      ]
    },
    {
      "cell_type": "markdown",
      "metadata": {
        "id": "o8Q9bHZl68bw"
      },
      "source": [
        "## 추측통계에서의 확률"
      ]
    },
    {
      "cell_type": "code",
      "metadata": {
        "ExecuteTime": {
          "end_time": "2018-08-14T06:47:19.099892Z",
          "start_time": "2018-08-14T06:47:18.939207Z"
        },
        "id": "3KyUPQyJ68bw",
        "colab": {
          "base_uri": "https://localhost:8080/",
          "height": 388
        },
        "outputId": "ab70b1ea-2413-47b9-961c-69b53de0843d"
      },
      "source": [
        "fig = plt.figure(figsize=(10, 6))\n",
        "ax = fig.add_subplot(111)\n",
        "ax.hist(scores, bins=100, range=(0, 100), density=True)\n",
        "ax.set_xlim(20, 100)\n",
        "ax.set_ylim(0, 0.042)\n",
        "ax.set_xlabel('score')\n",
        "ax.set_ylabel('relative frequency')\n",
        "plt.show()"
      ],
      "execution_count": 17,
      "outputs": [
        {
          "output_type": "display_data",
          "data": {
            "text/plain": [
              "<Figure size 720x432 with 1 Axes>"
            ],
            "image/png": "[encoded data removed]"
          },
          "metadata": {
            "needs_background": "light"
          }
        }
      ]
    },
    {
      "cell_type": "code",
      "metadata": {
        "ExecuteTime": {
          "end_time": "2018-08-14T06:47:19.103313Z",
          "start_time": "2018-08-14T06:47:19.100842Z"
        },
        "id": "8WkRIB_T68bw",
        "colab": {
          "base_uri": "https://localhost:8080/"
        },
        "outputId": "738f65ad-efaf-4712-ab87-71cbee481c1d"
      },
      "source": [
        "np.random.choice(scores)"
      ],
      "execution_count": 18,
      "outputs": [
        {
          "output_type": "execute_result",
          "data": {
            "text/plain": [
              "89"
            ]
          },
          "metadata": {},
          "execution_count": 18
        }
      ]
    },
    {
      "cell_type": "code",
      "metadata": {
        "ExecuteTime": {
          "end_time": "2018-08-14T06:47:19.265020Z",
          "start_time": "2018-08-14T06:47:19.104243Z"
        },
        "id": "F0iuFKwm68bx",
        "colab": {
          "base_uri": "https://localhost:8080/",
          "height": 388
        },
        "outputId": "3f95bd98-11bd-48c1-ed64-00b512ce35f0"
      },
      "source": [
        "sample = np.random.choice(scores, 10000)\n",
        "\n",
        "fig = plt.figure(figsize=(10, 6))\n",
        "ax = fig.add_subplot(111)\n",
        "ax.hist(sample, bins=100, range=(0, 100), density=True)\n",
        "ax.set_xlim(20, 100)\n",
        "ax.set_ylim(0, 0.042)\n",
        "ax.set_xlabel('score')\n",
        "ax.set_ylabel('relative frequency')\n",
        "plt.show()"
      ],
      "execution_count": 19,
      "outputs": [
        {
          "output_type": "display_data",
          "data": {
            "text/plain": [
              "<Figure size 720x432 with 1 Axes>"
            ],
            "image/png": "[encoded data removed]"
          },
          "metadata": {
            "needs_background": "light"
          }
        }
      ]
    },
    {
      "cell_type": "code",
      "metadata": {
        "ExecuteTime": {
          "end_time": "2018-08-14T06:47:19.591784Z",
          "start_time": "2018-08-14T06:47:19.266201Z"
        },
        "id": "9aiZmGtq68bx",
        "colab": {
          "base_uri": "https://localhost:8080/",
          "height": 388
        },
        "outputId": "74702f5f-a859-4285-86a1-eb08cbef0bef"
      },
      "source": [
        "sample_means = [np.random.choice(scores, 20).mean()\n",
        "                for _ in range(10000)]\n",
        "\n",
        "fig = plt.figure(figsize=(10, 6))\n",
        "ax = fig.add_subplot(111)\n",
        "ax.hist(sample_means, bins=100, range=(0, 100), density=True)\n",
        "# 모평균을 세로선으로 표시\n",
        "ax.vlines(np.mean(scores), 0, 1, 'gray')\n",
        "ax.set_xlim(50, 90)\n",
        "ax.set_ylim(0, 0.13)\n",
        "ax.set_xlabel('score')\n",
        "ax.set_ylabel('relative frequency')\n",
        "plt.show()"
      ],
      "execution_count": 20,
      "outputs": [
        {
          "output_type": "display_data",
          "data": {
            "text/plain": [
              "<Figure size 720x432 with 1 Axes>"
            ],
            "image/png": "[encoded data removed]"
          },
          "metadata": {
            "needs_background": "light"
          }
        }
      ]
    }
  ]
}