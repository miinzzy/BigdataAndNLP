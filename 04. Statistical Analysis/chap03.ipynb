{
  "cells": [
    {
      "cell_type": "markdown",
      "metadata": {
        "id": "ehYFxRnFsMzv"
      },
      "source": [
        "# 2차원 데이터의 정리"
      ]
    },
    {
      "cell_type": "markdown",
      "metadata": {
        "id": "tRECv6_GsMzz"
      },
      "source": [
        "## 두 데이터 사이의 관계를 나타내는 지표"
      ]
    },
    {
      "cell_type": "code",
      "execution_count": 35,
      "metadata": {
        "ExecuteTime": {
          "end_time": "2018-08-14T06:40:19.527554Z",
          "start_time": "2018-08-14T06:40:19.362974Z"
        },
        "id": "x4MPFciQsMz0"
      },
      "outputs": [],
      "source": [
        "import numpy as np\n",
        "import pandas as pd\n",
        "\n",
        "%precision 3\n",
        "pd.set_option('precision', 3)"
      ]
    },
    {
      "cell_type": "code",
      "execution_count": 36,
      "metadata": {
        "ExecuteTime": {
          "end_time": "2018-08-14T06:40:19.532933Z",
          "start_time": "2018-08-14T06:40:19.528592Z"
        },
        "id": "ginWxRuNsMz2"
      },
      "outputs": [],
      "source": [
        "df = pd.read_csv('./sample_data/ch2_scores_em.csv',\n",
        "                 index_col='student number')"
      ]
    },
    {
      "cell_type": "code",
      "execution_count": 37,
      "metadata": {
        "ExecuteTime": {
          "end_time": "2018-08-14T06:40:19.544111Z",
          "start_time": "2018-08-14T06:40:19.534006Z"
        },
        "colab": {
          "base_uri": "https://localhost:8080/",
          "height": 394
        },
        "id": "1kwuP9OqsMz2",
        "outputId": "03559a10-991b-403a-fe70-4ec0e5e64355"
      },
      "outputs": [
        {
          "output_type": "execute_result",
          "data": {
            "text/plain": [
              "         english  mathematics\n",
              "student                      \n",
              "A             42           65\n",
              "B             69           80\n",
              "C             56           63\n",
              "D             41           63\n",
              "E             57           76\n",
              "F             48           60\n",
              "G             65           81\n",
              "H             49           66\n",
              "I             65           78\n",
              "J             58           82"
            ],
            "text/html": [
              "\n",
              "  <div id=\"df-1ad53d62-48ce-4a6d-8801-d27bef9576a6\">\n",
              "    <div class=\"colab-df-container\">\n",
              "      <div>\n",
              "<style scoped>\n",
              "    .dataframe tbody tr th:only-of-type {\n",
              "        vertical-align: middle;\n",
              "    }\n",
              "\n",
              "    .dataframe tbody tr th {\n",
              "        vertical-align: top;\n",
              "    }\n",
              "\n",
              "    .dataframe thead th {\n",
              "        text-align: right;\n",
              "    }\n",
              "</style>\n",
              "<table border=\"1\" class=\"dataframe\">\n",
              "  <thead>\n",
              "    <tr style=\"text-align: right;\">\n",
              "      <th></th>\n",
              "      <th>english</th>\n",
              "      <th>mathematics</th>\n",
              "    </tr>\n",
              "    <tr>\n",
              "      <th>student</th>\n",
              "      <th></th>\n",
              "      <th></th>\n",
              "    </tr>\n",
              "  </thead>\n",
              "  <tbody>\n",
              "    <tr>\n",
              "      <th>A</th>\n",
              "      <td>42</td>\n",
              "      <td>65</td>\n",
              "    </tr>\n",
              "    <tr>\n",
              "      <th>B</th>\n",
              "      <td>69</td>\n",
              "      <td>80</td>\n",
              "    </tr>\n",
              "    <tr>\n",
              "      <th>C</th>\n",
              "      <td>56</td>\n",
              "      <td>63</td>\n",
              "    </tr>\n",
              "    <tr>\n",
              "      <th>D</th>\n",
              "      <td>41</td>\n",
              "      <td>63</td>\n",
              "    </tr>\n",
              "    <tr>\n",
              "      <th>E</th>\n",
              "      <td>57</td>\n",
              "      <td>76</td>\n",
              "    </tr>\n",
              "    <tr>\n",
              "      <th>F</th>\n",
              "      <td>48</td>\n",
              "      <td>60</td>\n",
              "    </tr>\n",
              "    <tr>\n",
              "      <th>G</th>\n",
              "      <td>65</td>\n",
              "      <td>81</td>\n",
              "    </tr>\n",
              "    <tr>\n",
              "      <th>H</th>\n",
              "      <td>49</td>\n",
              "      <td>66</td>\n",
              "    </tr>\n",
              "    <tr>\n",
              "      <th>I</th>\n",
              "      <td>65</td>\n",
              "      <td>78</td>\n",
              "    </tr>\n",
              "    <tr>\n",
              "      <th>J</th>\n",
              "      <td>58</td>\n",
              "      <td>82</td>\n",
              "    </tr>\n",
              "  </tbody>\n",
              "</table>\n",
              "</div>\n",
              "      <button class=\"colab-df-convert\" onclick=\"convertToInteractive('df-1ad53d62-48ce-4a6d-8801-d27bef9576a6')\"\n",
              "              title=\"Convert this dataframe to an interactive table.\"\n",
              "              style=\"display:none;\">\n",
              "        \n",
              "  <svg xmlns=\"http://www.w3.org/2000/svg\" height=\"24px\"viewBox=\"0 0 24 24\"\n",
              "       width=\"24px\">\n",
              "    <path d=\"M0 0h24v24H0V0z\" fill=\"none\"/>\n",
              "    <path d=\"M18.56 5.44l.94 2.06.94-2.06 2.06-.94-2.06-.94-.94-2.06-.94 2.06-2.06.94zm-11 1L8.5 8.5l.94-2.06 2.06-.94-2.06-.94L8.5 2.5l-.94 2.06-2.06.94zm10 10l.94 2.06.94-2.06 2.06-.94-2.06-.94-.94-2.06-.94 2.06-2.06.94z\"/><path d=\"M17.41 7.96l-1.37-1.37c-.4-.4-.92-.59-1.43-.59-.52 0-1.04.2-1.43.59L10.3 9.45l-7.72 7.72c-.78.78-.78 2.05 0 2.83L4 21.41c.39.39.9.59 1.41.59.51 0 1.02-.2 1.41-.59l7.78-7.78 2.81-2.81c.8-.78.8-2.07 0-2.86zM5.41 20L4 18.59l7.72-7.72 1.47 1.35L5.41 20z\"/>\n",
              "  </svg>\n",
              "      </button>\n",
              "      \n",
              "  <style>\n",
              "    .colab-df-container {\n",
              "      display:flex;\n",
              "      flex-wrap:wrap;\n",
              "      gap: 12px;\n",
              "    }\n",
              "\n",
              "    .colab-df-convert {\n",
              "      background-color: #E8F0FE;\n",
              "      border: none;\n",
              "      border-radius: 50%;\n",
              "      cursor: pointer;\n",
              "      display: none;\n",
              "      fill: #1967D2;\n",
              "      height: 32px;\n",
              "      padding: 0 0 0 0;\n",
              "      width: 32px;\n",
              "    }\n",
              "\n",
              "    .colab-df-convert:hover {\n",
              "      background-color: #E2EBFA;\n",
              "      box-shadow: 0px 1px 2px rgba(60, 64, 67, 0.3), 0px 1px 3px 1px rgba(60, 64, 67, 0.15);\n",
              "      fill: #174EA6;\n",
              "    }\n",
              "\n",
              "    [theme=dark] .colab-df-convert {\n",
              "      background-color: #3B4455;\n",
              "      fill: #D2E3FC;\n",
              "    }\n",
              "\n",
              "    [theme=dark] .colab-df-convert:hover {\n",
              "      background-color: #434B5C;\n",
              "      box-shadow: 0px 1px 3px 1px rgba(0, 0, 0, 0.15);\n",
              "      filter: drop-shadow(0px 1px 2px rgba(0, 0, 0, 0.3));\n",
              "      fill: #FFFFFF;\n",
              "    }\n",
              "  </style>\n",
              "\n",
              "      <script>\n",
              "        const buttonEl =\n",
              "          document.querySelector('#df-1ad53d62-48ce-4a6d-8801-d27bef9576a6 button.colab-df-convert');\n",
              "        buttonEl.style.display =\n",
              "          google.colab.kernel.accessAllowed ? 'block' : 'none';\n",
              "\n",
              "        async function convertToInteractive(key) {\n",
              "          const element = document.querySelector('#df-1ad53d62-48ce-4a6d-8801-d27bef9576a6');\n",
              "          const dataTable =\n",
              "            await google.colab.kernel.invokeFunction('convertToInteractive',\n",
              "                                                     [key], {});\n",
              "          if (!dataTable) return;\n",
              "\n",
              "          const docLinkHtml = 'Like what you see? Visit the ' +\n",
              "            '<a target=\"_blank\" href=https://colab.research.google.com/notebooks/data_table.ipynb>data table notebook</a>'\n",
              "            + ' to learn more about interactive tables.';\n",
              "          element.innerHTML = '';\n",
              "          dataTable['output_type'] = 'display_data';\n",
              "          await google.colab.output.renderOutput(dataTable, element);\n",
              "          const docLink = document.createElement('div');\n",
              "          docLink.innerHTML = docLinkHtml;\n",
              "          element.appendChild(docLink);\n",
              "        }\n",
              "      </script>\n",
              "    </div>\n",
              "  </div>\n",
              "  "
            ]
          },
          "metadata": {},
          "execution_count": 37
        }
      ],
      "source": [
        "en_scores = np.array(df['english'])[:10]\n",
        "ma_scores = np.array(df['mathematics'])[:10]\n",
        "\n",
        "scores_df = pd.DataFrame({'english':en_scores,\n",
        "                          'mathematics':ma_scores},\n",
        "                         index=pd.Index(['A', 'B', 'C', 'D', 'E',\n",
        "                                         'F', 'G', 'H', 'I', 'J'],\n",
        "                                        name='student'))\n",
        "scores_df"
      ]
    },
    {
      "cell_type": "markdown",
      "metadata": {
        "id": "qn9nsDUXsMz3"
      },
      "source": [
        "### 共分散"
      ]
    },
    {
      "cell_type": "code",
      "execution_count": 38,
      "metadata": {
        "ExecuteTime": {
          "end_time": "2018-08-14T06:40:19.566635Z",
          "start_time": "2018-08-14T06:40:19.545215Z"
        },
        "colab": {
          "base_uri": "https://localhost:8080/",
          "height": 394
        },
        "id": "XAzEwuSDsMz4",
        "outputId": "5106a944-a108-4509-caf4-8df267b4d07c"
      },
      "outputs": [
        {
          "output_type": "execute_result",
          "data": {
            "text/plain": [
              "         english  mathematics  english_deviation  mathematics_deviation  \\\n",
              "student                                                                   \n",
              "A             42           65              -13.0                   -6.4   \n",
              "B             69           80               14.0                    8.6   \n",
              "C             56           63                1.0                   -8.4   \n",
              "D             41           63              -14.0                   -8.4   \n",
              "E             57           76                2.0                    4.6   \n",
              "F             48           60               -7.0                  -11.4   \n",
              "G             65           81               10.0                    9.6   \n",
              "H             49           66               -6.0                   -5.4   \n",
              "I             65           78               10.0                    6.6   \n",
              "J             58           82                3.0                   10.6   \n",
              "\n",
              "         product of deviations  \n",
              "student                         \n",
              "A                         83.2  \n",
              "B                        120.4  \n",
              "C                         -8.4  \n",
              "D                        117.6  \n",
              "E                          9.2  \n",
              "F                         79.8  \n",
              "G                         96.0  \n",
              "H                         32.4  \n",
              "I                         66.0  \n",
              "J                         31.8  "
            ],
            "text/html": [
              "\n",
              "  <div id=\"df-addbf21a-0b28-426a-828d-96645fb4ef36\">\n",
              "    <div class=\"colab-df-container\">\n",
              "      <div>\n",
              "<style scoped>\n",
              "    .dataframe tbody tr th:only-of-type {\n",
              "        vertical-align: middle;\n",
              "    }\n",
              "\n",
              "    .dataframe tbody tr th {\n",
              "        vertical-align: top;\n",
              "    }\n",
              "\n",
              "    .dataframe thead th {\n",
              "        text-align: right;\n",
              "    }\n",
              "</style>\n",
              "<table border=\"1\" class=\"dataframe\">\n",
              "  <thead>\n",
              "    <tr style=\"text-align: right;\">\n",
              "      <th></th>\n",
              "      <th>english</th>\n",
              "      <th>mathematics</th>\n",
              "      <th>english_deviation</th>\n",
              "      <th>mathematics_deviation</th>\n",
              "      <th>product of deviations</th>\n",
              "    </tr>\n",
              "    <tr>\n",
              "      <th>student</th>\n",
              "      <th></th>\n",
              "      <th></th>\n",
              "      <th></th>\n",
              "      <th></th>\n",
              "      <th></th>\n",
              "    </tr>\n",
              "  </thead>\n",
              "  <tbody>\n",
              "    <tr>\n",
              "      <th>A</th>\n",
              "      <td>42</td>\n",
              "      <td>65</td>\n",
              "      <td>-13.0</td>\n",
              "      <td>-6.4</td>\n",
              "      <td>83.2</td>\n",
              "    </tr>\n",
              "    <tr>\n",
              "      <th>B</th>\n",
              "      <td>69</td>\n",
              "      <td>80</td>\n",
              "      <td>14.0</td>\n",
              "      <td>8.6</td>\n",
              "      <td>120.4</td>\n",
              "    </tr>\n",
              "    <tr>\n",
              "      <th>C</th>\n",
              "      <td>56</td>\n",
              "      <td>63</td>\n",
              "      <td>1.0</td>\n",
              "      <td>-8.4</td>\n",
              "      <td>-8.4</td>\n",
              "    </tr>\n",
              "    <tr>\n",
              "      <th>D</th>\n",
              "      <td>41</td>\n",
              "      <td>63</td>\n",
              "      <td>-14.0</td>\n",
              "      <td>-8.4</td>\n",
              "      <td>117.6</td>\n",
              "    </tr>\n",
              "    <tr>\n",
              "      <th>E</th>\n",
              "      <td>57</td>\n",
              "      <td>76</td>\n",
              "      <td>2.0</td>\n",
              "      <td>4.6</td>\n",
              "      <td>9.2</td>\n",
              "    </tr>\n",
              "    <tr>\n",
              "      <th>F</th>\n",
              "      <td>48</td>\n",
              "      <td>60</td>\n",
              "      <td>-7.0</td>\n",
              "      <td>-11.4</td>\n",
              "      <td>79.8</td>\n",
              "    </tr>\n",
              "    <tr>\n",
              "      <th>G</th>\n",
              "      <td>65</td>\n",
              "      <td>81</td>\n",
              "      <td>10.0</td>\n",
              "      <td>9.6</td>\n",
              "      <td>96.0</td>\n",
              "    </tr>\n",
              "    <tr>\n",
              "      <th>H</th>\n",
              "      <td>49</td>\n",
              "      <td>66</td>\n",
              "      <td>-6.0</td>\n",
              "      <td>-5.4</td>\n",
              "      <td>32.4</td>\n",
              "    </tr>\n",
              "    <tr>\n",
              "      <th>I</th>\n",
              "      <td>65</td>\n",
              "      <td>78</td>\n",
              "      <td>10.0</td>\n",
              "      <td>6.6</td>\n",
              "      <td>66.0</td>\n",
              "    </tr>\n",
              "    <tr>\n",
              "      <th>J</th>\n",
              "      <td>58</td>\n",
              "      <td>82</td>\n",
              "      <td>3.0</td>\n",
              "      <td>10.6</td>\n",
              "      <td>31.8</td>\n",
              "    </tr>\n",
              "  </tbody>\n",
              "</table>\n",
              "</div>\n",
              "      <button class=\"colab-df-convert\" onclick=\"convertToInteractive('df-addbf21a-0b28-426a-828d-96645fb4ef36')\"\n",
              "              title=\"Convert this dataframe to an interactive table.\"\n",
              "              style=\"display:none;\">\n",
              "        \n",
              "  <svg xmlns=\"http://www.w3.org/2000/svg\" height=\"24px\"viewBox=\"0 0 24 24\"\n",
              "       width=\"24px\">\n",
              "    <path d=\"M0 0h24v24H0V0z\" fill=\"none\"/>\n",
              "    <path d=\"M18.56 5.44l.94 2.06.94-2.06 2.06-.94-2.06-.94-.94-2.06-.94 2.06-2.06.94zm-11 1L8.5 8.5l.94-2.06 2.06-.94-2.06-.94L8.5 2.5l-.94 2.06-2.06.94zm10 10l.94 2.06.94-2.06 2.06-.94-2.06-.94-.94-2.06-.94 2.06-2.06.94z\"/><path d=\"M17.41 7.96l-1.37-1.37c-.4-.4-.92-.59-1.43-.59-.52 0-1.04.2-1.43.59L10.3 9.45l-7.72 7.72c-.78.78-.78 2.05 0 2.83L4 21.41c.39.39.9.59 1.41.59.51 0 1.02-.2 1.41-.59l7.78-7.78 2.81-2.81c.8-.78.8-2.07 0-2.86zM5.41 20L4 18.59l7.72-7.72 1.47 1.35L5.41 20z\"/>\n",
              "  </svg>\n",
              "      </button>\n",
              "      \n",
              "  <style>\n",
              "    .colab-df-container {\n",
              "      display:flex;\n",
              "      flex-wrap:wrap;\n",
              "      gap: 12px;\n",
              "    }\n",
              "\n",
              "    .colab-df-convert {\n",
              "      background-color: #E8F0FE;\n",
              "      border: none;\n",
              "      border-radius: 50%;\n",
              "      cursor: pointer;\n",
              "      display: none;\n",
              "      fill: #1967D2;\n",
              "      height: 32px;\n",
              "      padding: 0 0 0 0;\n",
              "      width: 32px;\n",
              "    }\n",
              "\n",
              "    .colab-df-convert:hover {\n",
              "      background-color: #E2EBFA;\n",
              "      box-shadow: 0px 1px 2px rgba(60, 64, 67, 0.3), 0px 1px 3px 1px rgba(60, 64, 67, 0.15);\n",
              "      fill: #174EA6;\n",
              "    }\n",
              "\n",
              "    [theme=dark] .colab-df-convert {\n",
              "      background-color: #3B4455;\n",
              "      fill: #D2E3FC;\n",
              "    }\n",
              "\n",
              "    [theme=dark] .colab-df-convert:hover {\n",
              "      background-color: #434B5C;\n",
              "      box-shadow: 0px 1px 3px 1px rgba(0, 0, 0, 0.15);\n",
              "      filter: drop-shadow(0px 1px 2px rgba(0, 0, 0, 0.3));\n",
              "      fill: #FFFFFF;\n",
              "    }\n",
              "  </style>\n",
              "\n",
              "      <script>\n",
              "        const buttonEl =\n",
              "          document.querySelector('#df-addbf21a-0b28-426a-828d-96645fb4ef36 button.colab-df-convert');\n",
              "        buttonEl.style.display =\n",
              "          google.colab.kernel.accessAllowed ? 'block' : 'none';\n",
              "\n",
              "        async function convertToInteractive(key) {\n",
              "          const element = document.querySelector('#df-addbf21a-0b28-426a-828d-96645fb4ef36');\n",
              "          const dataTable =\n",
              "            await google.colab.kernel.invokeFunction('convertToInteractive',\n",
              "                                                     [key], {});\n",
              "          if (!dataTable) return;\n",
              "\n",
              "          const docLinkHtml = 'Like what you see? Visit the ' +\n",
              "            '<a target=\"_blank\" href=https://colab.research.google.com/notebooks/data_table.ipynb>data table notebook</a>'\n",
              "            + ' to learn more about interactive tables.';\n",
              "          element.innerHTML = '';\n",
              "          dataTable['output_type'] = 'display_data';\n",
              "          await google.colab.output.renderOutput(dataTable, element);\n",
              "          const docLink = document.createElement('div');\n",
              "          docLink.innerHTML = docLinkHtml;\n",
              "          element.appendChild(docLink);\n",
              "        }\n",
              "      </script>\n",
              "    </div>\n",
              "  </div>\n",
              "  "
            ]
          },
          "metadata": {},
          "execution_count": 38
        }
      ],
      "source": [
        "summary_df = scores_df.copy()\n",
        "summary_df['english_deviation'] =\\\n",
        "    summary_df['english'] - summary_df['english'].mean()\n",
        "summary_df['mathematics_deviation'] =\\\n",
        "    summary_df['mathematics'] - summary_df['mathematics'].mean()\n",
        "summary_df['product of deviations'] =\\\n",
        "    summary_df['english_deviation'] * summary_df['mathematics_deviation']\n",
        "summary_df"
      ]
    },
    {
      "cell_type": "code",
      "execution_count": 39,
      "metadata": {
        "ExecuteTime": {
          "end_time": "2018-08-14T06:40:19.570409Z",
          "start_time": "2018-08-14T06:40:19.567674Z"
        },
        "colab": {
          "base_uri": "https://localhost:8080/"
        },
        "id": "R9njLk5ssMz4",
        "outputId": "629f679f-f8b0-4164-a959-4cb08554b4e5"
      },
      "outputs": [
        {
          "output_type": "execute_result",
          "data": {
            "text/plain": [
              "62.800"
            ]
          },
          "metadata": {},
          "execution_count": 39
        }
      ],
      "source": [
        "summary_df['product of deviations'].mean()"
      ]
    },
    {
      "cell_type": "code",
      "execution_count": 40,
      "metadata": {
        "ExecuteTime": {
          "end_time": "2018-08-14T06:40:19.575907Z",
          "start_time": "2018-08-14T06:40:19.571427Z"
        },
        "colab": {
          "base_uri": "https://localhost:8080/"
        },
        "id": "4Mh3kG9DsMz5",
        "outputId": "13f18bc0-8adc-4206-b90c-cf6a58a1cf7d"
      },
      "outputs": [
        {
          "output_type": "execute_result",
          "data": {
            "text/plain": [
              "array([[86.  , 62.8 ],\n",
              "       [62.8 , 68.44]])"
            ]
          },
          "metadata": {},
          "execution_count": 40
        }
      ],
      "source": [
        "cov_mat = np.cov(en_scores, ma_scores, ddof=0)\n",
        "cov_mat"
      ]
    },
    {
      "cell_type": "code",
      "execution_count": 41,
      "metadata": {
        "ExecuteTime": {
          "end_time": "2018-08-14T06:40:19.580080Z",
          "start_time": "2018-08-14T06:40:19.577571Z"
        },
        "colab": {
          "base_uri": "https://localhost:8080/"
        },
        "id": "DYzwjS4usMz6",
        "outputId": "d8ad8b6b-f9ca-43e8-a21c-807a22cfcb1c"
      },
      "outputs": [
        {
          "output_type": "execute_result",
          "data": {
            "text/plain": [
              "(62.800, 62.800)"
            ]
          },
          "metadata": {},
          "execution_count": 41
        }
      ],
      "source": [
        "cov_mat[0, 1], cov_mat[1, 0]"
      ]
    },
    {
      "cell_type": "code",
      "execution_count": 42,
      "metadata": {
        "ExecuteTime": {
          "end_time": "2018-08-14T06:40:19.583685Z",
          "start_time": "2018-08-14T06:40:19.581281Z"
        },
        "colab": {
          "base_uri": "https://localhost:8080/"
        },
        "id": "x6eJgxrgsMz6",
        "outputId": "6bf77472-7005-45c4-aa34-ad089e5960c1"
      },
      "outputs": [
        {
          "output_type": "execute_result",
          "data": {
            "text/plain": [
              "(86.000, 68.440)"
            ]
          },
          "metadata": {},
          "execution_count": 42
        }
      ],
      "source": [
        "cov_mat[0, 0], cov_mat[1, 1]"
      ]
    },
    {
      "cell_type": "code",
      "execution_count": 43,
      "metadata": {
        "ExecuteTime": {
          "end_time": "2018-08-14T06:40:19.588330Z",
          "start_time": "2018-08-14T06:40:19.584646Z"
        },
        "colab": {
          "base_uri": "https://localhost:8080/"
        },
        "id": "-m6-WIQDsMz6",
        "outputId": "a4227b87-bab6-4603-9ae6-0f1b397cedda"
      },
      "outputs": [
        {
          "output_type": "execute_result",
          "data": {
            "text/plain": [
              "(86.000, 68.440)"
            ]
          },
          "metadata": {},
          "execution_count": 43
        }
      ],
      "source": [
        "np.var(en_scores, ddof=0), np.var(ma_scores, ddof=0)"
      ]
    },
    {
      "cell_type": "markdown",
      "metadata": {
        "id": "UwaEUUoesMz7"
      },
      "source": [
        "### 상관계수"
      ]
    },
    {
      "cell_type": "code",
      "execution_count": 44,
      "metadata": {
        "ExecuteTime": {
          "end_time": "2018-08-14T06:40:19.592372Z",
          "start_time": "2018-08-14T06:40:19.589231Z"
        },
        "colab": {
          "base_uri": "https://localhost:8080/"
        },
        "id": "i6L1sxIJsMz7",
        "outputId": "a0dbf60d-d324-407d-bbd5-d60e875160cc"
      },
      "outputs": [
        {
          "output_type": "execute_result",
          "data": {
            "text/plain": [
              "0.819"
            ]
          },
          "metadata": {},
          "execution_count": 44
        }
      ],
      "source": [
        "np.cov(en_scores, ma_scores, ddof=0)[0, 1] /\\\n",
        "    (np.std(en_scores) * np.std(ma_scores))"
      ]
    },
    {
      "cell_type": "code",
      "execution_count": 45,
      "metadata": {
        "ExecuteTime": {
          "end_time": "2018-08-14T06:40:19.597039Z",
          "start_time": "2018-08-14T06:40:19.593315Z"
        },
        "colab": {
          "base_uri": "https://localhost:8080/"
        },
        "id": "ikH6pI-CsMz7",
        "outputId": "24efcc62-81a1-4955-f242-5633954eeabe"
      },
      "outputs": [
        {
          "output_type": "execute_result",
          "data": {
            "text/plain": [
              "array([[1.   , 0.819],\n",
              "       [0.819, 1.   ]])"
            ]
          },
          "metadata": {},
          "execution_count": 45
        }
      ],
      "source": [
        "np.corrcoef(en_scores, ma_scores)"
      ]
    },
    {
      "cell_type": "code",
      "execution_count": 46,
      "metadata": {
        "ExecuteTime": {
          "end_time": "2018-08-14T06:40:19.602887Z",
          "start_time": "2018-08-14T06:40:19.598025Z"
        },
        "colab": {
          "base_uri": "https://localhost:8080/",
          "height": 112
        },
        "id": "ePUz-F0csMz8",
        "outputId": "2b122ec5-cc1c-43a9-a875-eb1563ff9201"
      },
      "outputs": [
        {
          "output_type": "execute_result",
          "data": {
            "text/plain": [
              "             english  mathematics\n",
              "english        1.000        0.819\n",
              "mathematics    0.819        1.000"
            ],
            "text/html": [
              "\n",
              "  <div id=\"df-96aeb471-8876-49fa-a76a-7d05e561c098\">\n",
              "    <div class=\"colab-df-container\">\n",
              "      <div>\n",
              "<style scoped>\n",
              "    .dataframe tbody tr th:only-of-type {\n",
              "        vertical-align: middle;\n",
              "    }\n",
              "\n",
              "    .dataframe tbody tr th {\n",
              "        vertical-align: top;\n",
              "    }\n",
              "\n",
              "    .dataframe thead th {\n",
              "        text-align: right;\n",
              "    }\n",
              "</style>\n",
              "<table border=\"1\" class=\"dataframe\">\n",
              "  <thead>\n",
              "    <tr style=\"text-align: right;\">\n",
              "      <th></th>\n",
              "      <th>english</th>\n",
              "      <th>mathematics</th>\n",
              "    </tr>\n",
              "  </thead>\n",
              "  <tbody>\n",
              "    <tr>\n",
              "      <th>english</th>\n",
              "      <td>1.000</td>\n",
              "      <td>0.819</td>\n",
              "    </tr>\n",
              "    <tr>\n",
              "      <th>mathematics</th>\n",
              "      <td>0.819</td>\n",
              "      <td>1.000</td>\n",
              "    </tr>\n",
              "  </tbody>\n",
              "</table>\n",
              "</div>\n",
              "      <button class=\"colab-df-convert\" onclick=\"convertToInteractive('df-96aeb471-8876-49fa-a76a-7d05e561c098')\"\n",
              "              title=\"Convert this dataframe to an interactive table.\"\n",
              "              style=\"display:none;\">\n",
              "        \n",
              "  <svg xmlns=\"http://www.w3.org/2000/svg\" height=\"24px\"viewBox=\"0 0 24 24\"\n",
              "       width=\"24px\">\n",
              "    <path d=\"M0 0h24v24H0V0z\" fill=\"none\"/>\n",
              "    <path d=\"M18.56 5.44l.94 2.06.94-2.06 2.06-.94-2.06-.94-.94-2.06-.94 2.06-2.06.94zm-11 1L8.5 8.5l.94-2.06 2.06-.94-2.06-.94L8.5 2.5l-.94 2.06-2.06.94zm10 10l.94 2.06.94-2.06 2.06-.94-2.06-.94-.94-2.06-.94 2.06-2.06.94z\"/><path d=\"M17.41 7.96l-1.37-1.37c-.4-.4-.92-.59-1.43-.59-.52 0-1.04.2-1.43.59L10.3 9.45l-7.72 7.72c-.78.78-.78 2.05 0 2.83L4 21.41c.39.39.9.59 1.41.59.51 0 1.02-.2 1.41-.59l7.78-7.78 2.81-2.81c.8-.78.8-2.07 0-2.86zM5.41 20L4 18.59l7.72-7.72 1.47 1.35L5.41 20z\"/>\n",
              "  </svg>\n",
              "      </button>\n",
              "      \n",
              "  <style>\n",
              "    .colab-df-container {\n",
              "      display:flex;\n",
              "      flex-wrap:wrap;\n",
              "      gap: 12px;\n",
              "    }\n",
              "\n",
              "    .colab-df-convert {\n",
              "      background-color: #E8F0FE;\n",
              "      border: none;\n",
              "      border-radius: 50%;\n",
              "      cursor: pointer;\n",
              "      display: none;\n",
              "      fill: #1967D2;\n",
              "      height: 32px;\n",
              "      padding: 0 0 0 0;\n",
              "      width: 32px;\n",
              "    }\n",
              "\n",
              "    .colab-df-convert:hover {\n",
              "      background-color: #E2EBFA;\n",
              "      box-shadow: 0px 1px 2px rgba(60, 64, 67, 0.3), 0px 1px 3px 1px rgba(60, 64, 67, 0.15);\n",
              "      fill: #174EA6;\n",
              "    }\n",
              "\n",
              "    [theme=dark] .colab-df-convert {\n",
              "      background-color: #3B4455;\n",
              "      fill: #D2E3FC;\n",
              "    }\n",
              "\n",
              "    [theme=dark] .colab-df-convert:hover {\n",
              "      background-color: #434B5C;\n",
              "      box-shadow: 0px 1px 3px 1px rgba(0, 0, 0, 0.15);\n",
              "      filter: drop-shadow(0px 1px 2px rgba(0, 0, 0, 0.3));\n",
              "      fill: #FFFFFF;\n",
              "    }\n",
              "  </style>\n",
              "\n",
              "      <script>\n",
              "        const buttonEl =\n",
              "          document.querySelector('#df-96aeb471-8876-49fa-a76a-7d05e561c098 button.colab-df-convert');\n",
              "        buttonEl.style.display =\n",
              "          google.colab.kernel.accessAllowed ? 'block' : 'none';\n",
              "\n",
              "        async function convertToInteractive(key) {\n",
              "          const element = document.querySelector('#df-96aeb471-8876-49fa-a76a-7d05e561c098');\n",
              "          const dataTable =\n",
              "            await google.colab.kernel.invokeFunction('convertToInteractive',\n",
              "                                                     [key], {});\n",
              "          if (!dataTable) return;\n",
              "\n",
              "          const docLinkHtml = 'Like what you see? Visit the ' +\n",
              "            '<a target=\"_blank\" href=https://colab.research.google.com/notebooks/data_table.ipynb>data table notebook</a>'\n",
              "            + ' to learn more about interactive tables.';\n",
              "          element.innerHTML = '';\n",
              "          dataTable['output_type'] = 'display_data';\n",
              "          await google.colab.output.renderOutput(dataTable, element);\n",
              "          const docLink = document.createElement('div');\n",
              "          docLink.innerHTML = docLinkHtml;\n",
              "          element.appendChild(docLink);\n",
              "        }\n",
              "      </script>\n",
              "    </div>\n",
              "  </div>\n",
              "  "
            ]
          },
          "metadata": {},
          "execution_count": 46
        }
      ],
      "source": [
        "scores_df.corr()"
      ]
    },
    {
      "cell_type": "markdown",
      "metadata": {
        "id": "ZyJueezisMz8"
      },
      "source": [
        "## 2차원 데이터의 시각화"
      ]
    },
    {
      "cell_type": "markdown",
      "metadata": {
        "id": "j2U6sqhYsMz8"
      },
      "source": [
        "### 산점도"
      ]
    },
    {
      "cell_type": "code",
      "execution_count": 47,
      "metadata": {
        "ExecuteTime": {
          "end_time": "2018-08-14T06:40:19.675926Z",
          "start_time": "2018-08-14T06:40:19.603899Z"
        },
        "id": "pRMCpU4ysMz9"
      },
      "outputs": [],
      "source": [
        "import matplotlib.pyplot as plt\n",
        "\n",
        "%matplotlib inline"
      ]
    },
    {
      "cell_type": "code",
      "execution_count": 48,
      "metadata": {
        "ExecuteTime": {
          "end_time": "2018-08-14T06:40:19.805306Z",
          "start_time": "2018-08-14T06:40:19.677328Z"
        },
        "colab": {
          "base_uri": "https://localhost:8080/",
          "height": 497
        },
        "id": "QCBWktiMsMz9",
        "outputId": "7350d49b-018d-43e3-abc3-7a9b6b0ba065"
      },
      "outputs": [
        {
          "output_type": "display_data",
          "data": {
            "text/plain": [
              "<Figure size 576x576 with 1 Axes>"
            ],
            "image/png": "[encoded data removed]"
          },
          "metadata": {
            "needs_background": "light"
          }
        }
      ],
      "source": [
        "english_scores = np.array(df['english'])\n",
        "math_scores = np.array(df['mathematics'])\n",
        "\n",
        "fig = plt.figure(figsize=(8, 8))\n",
        "ax = fig.add_subplot(111)\n",
        "# 산점도\n",
        "ax.scatter(english_scores, math_scores)\n",
        "ax.set_xlabel('english')\n",
        "ax.set_ylabel('mathematics')\n",
        "\n",
        "plt.show()"
      ]
    },
    {
      "cell_type": "markdown",
      "metadata": {
        "id": "Lj6xCFIRsMz9"
      },
      "source": [
        "### 회귀직선"
      ]
    },
    {
      "cell_type": "code",
      "execution_count": 49,
      "metadata": {
        "ExecuteTime": {
          "end_time": "2018-08-14T06:40:19.900171Z",
          "start_time": "2018-08-14T06:40:19.806854Z"
        },
        "colab": {
          "base_uri": "https://localhost:8080/",
          "height": 497
        },
        "id": "3u7G-_4IsMz9",
        "outputId": "71f95918-cc30-4e45-ac06-f20c35a6339a"
      },
      "outputs": [
        {
          "output_type": "display_data",
          "data": {
            "text/plain": [
              "<Figure size 576x576 with 1 Axes>"
            ],
            "image/png": "[encoded data removed]"
          },
          "metadata": {
            "needs_background": "light"
          }
        }
      ],
      "source": [
        "# 계수β_0와β_1를 구한다\n",
        "poly_fit = np.polyfit(english_scores, math_scores, 1)\n",
        "# β_0+β_1 x를 반환하는 함수를 작성\n",
        "poly_1d = np.poly1d(poly_fit)\n",
        "# 직선을 그리기 위해 x좌표를 생성\n",
        "xs = np.linspace(english_scores.min(), english_scores.max())\n",
        "# xs에 대응하는 y좌표를 구한다\n",
        "ys = poly_1d(xs)\n",
        "\n",
        "fig = plt.figure(figsize=(8, 8))\n",
        "ax = fig.add_subplot(111)\n",
        "ax.set_xlabel('english')\n",
        "ax.set_ylabel('mathematics')\n",
        "ax.scatter(english_scores, math_scores, label='score')\n",
        "ax.plot(xs, ys, color='gray',\n",
        "        label=f'{poly_fit[1]:.2f}+{poly_fit[0]:.2f}x')\n",
        "# 범례의 표시\n",
        "ax.legend(loc='upper left')\n",
        "\n",
        "plt.show()"
      ]
    },
    {
      "cell_type": "markdown",
      "metadata": {
        "id": "VYJ2JZAmsMz-"
      },
      "source": [
        "### 히트맵"
      ]
    },
    {
      "cell_type": "code",
      "execution_count": 50,
      "metadata": {
        "ExecuteTime": {
          "end_time": "2018-08-14T06:40:20.028133Z",
          "start_time": "2018-08-14T06:40:19.901235Z"
        },
        "colab": {
          "base_uri": "https://localhost:8080/",
          "height": 501
        },
        "id": "o8NwRnk4sMz-",
        "outputId": "11fc28ab-96c8-4450-d3db-cba4126fbf8a"
      },
      "outputs": [
        {
          "output_type": "display_data",
          "data": {
            "text/plain": [
              "<Figure size 720x576 with 2 Axes>"
            ],
            "image/png": "[encoded data removed]"
          },
          "metadata": {
            "needs_background": "light"
          }
        }
      ],
      "source": [
        "fig = plt.figure(figsize=(10, 8))\n",
        "ax = fig.add_subplot(111)\n",
        "\n",
        "c = ax.hist2d(english_scores, math_scores,\n",
        "              bins=[9, 8], range=[(35, 80), (55, 95)])\n",
        "ax.set_xlabel('english')\n",
        "ax.set_ylabel('mathematics')\n",
        "ax.set_xticks(c[1])\n",
        "ax.set_yticks(c[2])\n",
        "# 컬러 바의 표시\n",
        "fig.colorbar(c[3], ax=ax)\n",
        "plt.show()"
      ]
    },
    {
      "cell_type": "markdown",
      "metadata": {
        "id": "1g541eR_sMz-"
      },
      "source": [
        "## 앤스컴의 예"
      ]
    },
    {
      "cell_type": "code",
      "execution_count": 51,
      "metadata": {
        "ExecuteTime": {
          "end_time": "2018-08-14T06:40:20.034280Z",
          "start_time": "2018-08-14T06:40:20.029676Z"
        },
        "scrolled": true,
        "colab": {
          "base_uri": "https://localhost:8080/"
        },
        "id": "s1FQpLN9sMz_",
        "outputId": "882e4695-16cc-4622-b9a4-7fc89708ef73"
      },
      "outputs": [
        {
          "output_type": "stream",
          "name": "stdout",
          "text": [
            "(4, 11, 2)\n"
          ]
        },
        {
          "output_type": "execute_result",
          "data": {
            "text/plain": [
              "array([[10.  ,  8.04],\n",
              "       [ 8.  ,  6.95],\n",
              "       [13.  ,  7.58],\n",
              "       [ 9.  ,  8.81],\n",
              "       [11.  ,  8.33],\n",
              "       [14.  ,  9.96],\n",
              "       [ 6.  ,  7.24],\n",
              "       [ 4.  ,  4.26],\n",
              "       [12.  , 10.84],\n",
              "       [ 7.  ,  4.82],\n",
              "       [ 5.  ,  5.68]])"
            ]
          },
          "metadata": {},
          "execution_count": 51
        }
      ],
      "source": [
        "# npy 형식으로 저장된 NumPy array를 읽어들인다\n",
        "anscombe_data = np.load('./sample_data/ch3_anscombe.npy')\n",
        "print(anscombe_data.shape)\n",
        "anscombe_data[0]"
      ]
    },
    {
      "cell_type": "code",
      "execution_count": 52,
      "metadata": {
        "ExecuteTime": {
          "end_time": "2018-08-14T06:40:20.052006Z",
          "start_time": "2018-08-14T06:40:20.035614Z"
        },
        "colab": {
          "base_uri": "https://localhost:8080/",
          "height": 238
        },
        "id": "QpAiGAtksMz_",
        "outputId": "47f5e3f3-edc2-4579-aad7-afe63dc62503"
      },
      "outputs": [
        {
          "output_type": "execute_result",
          "data": {
            "text/plain": [
              "                          data1       data2       data3       data4\n",
              "X_mean                     9.00        9.00        9.00        9.00\n",
              "X_variance                10.00       10.00       10.00       10.00\n",
              "Y_mean                     7.50        7.50        7.50        7.50\n",
              "Y_variance                 3.75        3.75        3.75        3.75\n",
              "X&Y_correlation            0.82        0.82        0.82        0.82\n",
              "X&Y_regression line  3.00+0.50x  3.00+0.50x  3.00+0.50x  3.00+0.50x"
            ],
            "text/html": [
              "\n",
              "  <div id=\"df-f737d260-1947-4b3f-b41c-2c1592c6d5a1\">\n",
              "    <div class=\"colab-df-container\">\n",
              "      <div>\n",
              "<style scoped>\n",
              "    .dataframe tbody tr th:only-of-type {\n",
              "        vertical-align: middle;\n",
              "    }\n",
              "\n",
              "    .dataframe tbody tr th {\n",
              "        vertical-align: top;\n",
              "    }\n",
              "\n",
              "    .dataframe thead th {\n",
              "        text-align: right;\n",
              "    }\n",
              "</style>\n",
              "<table border=\"1\" class=\"dataframe\">\n",
              "  <thead>\n",
              "    <tr style=\"text-align: right;\">\n",
              "      <th></th>\n",
              "      <th>data1</th>\n",
              "      <th>data2</th>\n",
              "      <th>data3</th>\n",
              "      <th>data4</th>\n",
              "    </tr>\n",
              "  </thead>\n",
              "  <tbody>\n",
              "    <tr>\n",
              "      <th>X_mean</th>\n",
              "      <td>9.00</td>\n",
              "      <td>9.00</td>\n",
              "      <td>9.00</td>\n",
              "      <td>9.00</td>\n",
              "    </tr>\n",
              "    <tr>\n",
              "      <th>X_variance</th>\n",
              "      <td>10.00</td>\n",
              "      <td>10.00</td>\n",
              "      <td>10.00</td>\n",
              "      <td>10.00</td>\n",
              "    </tr>\n",
              "    <tr>\n",
              "      <th>Y_mean</th>\n",
              "      <td>7.50</td>\n",
              "      <td>7.50</td>\n",
              "      <td>7.50</td>\n",
              "      <td>7.50</td>\n",
              "    </tr>\n",
              "    <tr>\n",
              "      <th>Y_variance</th>\n",
              "      <td>3.75</td>\n",
              "      <td>3.75</td>\n",
              "      <td>3.75</td>\n",
              "      <td>3.75</td>\n",
              "    </tr>\n",
              "    <tr>\n",
              "      <th>X&amp;Y_correlation</th>\n",
              "      <td>0.82</td>\n",
              "      <td>0.82</td>\n",
              "      <td>0.82</td>\n",
              "      <td>0.82</td>\n",
              "    </tr>\n",
              "    <tr>\n",
              "      <th>X&amp;Y_regression line</th>\n",
              "      <td>3.00+0.50x</td>\n",
              "      <td>3.00+0.50x</td>\n",
              "      <td>3.00+0.50x</td>\n",
              "      <td>3.00+0.50x</td>\n",
              "    </tr>\n",
              "  </tbody>\n",
              "</table>\n",
              "</div>\n",
              "      <button class=\"colab-df-convert\" onclick=\"convertToInteractive('df-f737d260-1947-4b3f-b41c-2c1592c6d5a1')\"\n",
              "              title=\"Convert this dataframe to an interactive table.\"\n",
              "              style=\"display:none;\">\n",
              "        \n",
              "  <svg xmlns=\"http://www.w3.org/2000/svg\" height=\"24px\"viewBox=\"0 0 24 24\"\n",
              "       width=\"24px\">\n",
              "    <path d=\"M0 0h24v24H0V0z\" fill=\"none\"/>\n",
              "    <path d=\"M18.56 5.44l.94 2.06.94-2.06 2.06-.94-2.06-.94-.94-2.06-.94 2.06-2.06.94zm-11 1L8.5 8.5l.94-2.06 2.06-.94-2.06-.94L8.5 2.5l-.94 2.06-2.06.94zm10 10l.94 2.06.94-2.06 2.06-.94-2.06-.94-.94-2.06-.94 2.06-2.06.94z\"/><path d=\"M17.41 7.96l-1.37-1.37c-.4-.4-.92-.59-1.43-.59-.52 0-1.04.2-1.43.59L10.3 9.45l-7.72 7.72c-.78.78-.78 2.05 0 2.83L4 21.41c.39.39.9.59 1.41.59.51 0 1.02-.2 1.41-.59l7.78-7.78 2.81-2.81c.8-.78.8-2.07 0-2.86zM5.41 20L4 18.59l7.72-7.72 1.47 1.35L5.41 20z\"/>\n",
              "  </svg>\n",
              "      </button>\n",
              "      \n",
              "  <style>\n",
              "    .colab-df-container {\n",
              "      display:flex;\n",
              "      flex-wrap:wrap;\n",
              "      gap: 12px;\n",
              "    }\n",
              "\n",
              "    .colab-df-convert {\n",
              "      background-color: #E8F0FE;\n",
              "      border: none;\n",
              "      border-radius: 50%;\n",
              "      cursor: pointer;\n",
              "      display: none;\n",
              "      fill: #1967D2;\n",
              "      height: 32px;\n",
              "      padding: 0 0 0 0;\n",
              "      width: 32px;\n",
              "    }\n",
              "\n",
              "    .colab-df-convert:hover {\n",
              "      background-color: #E2EBFA;\n",
              "      box-shadow: 0px 1px 2px rgba(60, 64, 67, 0.3), 0px 1px 3px 1px rgba(60, 64, 67, 0.15);\n",
              "      fill: #174EA6;\n",
              "    }\n",
              "\n",
              "    [theme=dark] .colab-df-convert {\n",
              "      background-color: #3B4455;\n",
              "      fill: #D2E3FC;\n",
              "    }\n",
              "\n",
              "    [theme=dark] .colab-df-convert:hover {\n",
              "      background-color: #434B5C;\n",
              "      box-shadow: 0px 1px 3px 1px rgba(0, 0, 0, 0.15);\n",
              "      filter: drop-shadow(0px 1px 2px rgba(0, 0, 0, 0.3));\n",
              "      fill: #FFFFFF;\n",
              "    }\n",
              "  </style>\n",
              "\n",
              "      <script>\n",
              "        const buttonEl =\n",
              "          document.querySelector('#df-f737d260-1947-4b3f-b41c-2c1592c6d5a1 button.colab-df-convert');\n",
              "        buttonEl.style.display =\n",
              "          google.colab.kernel.accessAllowed ? 'block' : 'none';\n",
              "\n",
              "        async function convertToInteractive(key) {\n",
              "          const element = document.querySelector('#df-f737d260-1947-4b3f-b41c-2c1592c6d5a1');\n",
              "          const dataTable =\n",
              "            await google.colab.kernel.invokeFunction('convertToInteractive',\n",
              "                                                     [key], {});\n",
              "          if (!dataTable) return;\n",
              "\n",
              "          const docLinkHtml = 'Like what you see? Visit the ' +\n",
              "            '<a target=\"_blank\" href=https://colab.research.google.com/notebooks/data_table.ipynb>data table notebook</a>'\n",
              "            + ' to learn more about interactive tables.';\n",
              "          element.innerHTML = '';\n",
              "          dataTable['output_type'] = 'display_data';\n",
              "          await google.colab.output.renderOutput(dataTable, element);\n",
              "          const docLink = document.createElement('div');\n",
              "          docLink.innerHTML = docLinkHtml;\n",
              "          element.appendChild(docLink);\n",
              "        }\n",
              "      </script>\n",
              "    </div>\n",
              "  </div>\n",
              "  "
            ]
          },
          "metadata": {},
          "execution_count": 52
        }
      ],
      "source": [
        "stats_df = pd.DataFrame(index=['X_mean', 'X_variance', 'Y_mean',\n",
        "                               'Y_variance', 'X&Y_correlation',\n",
        "                               'X&Y_regression line'])\n",
        "for i, data in enumerate(anscombe_data):\n",
        "    dataX = data[:, 0]\n",
        "    dataY = data[:, 1]\n",
        "    poly_fit = np.polyfit(dataX, dataY, 1)\n",
        "    stats_df[f'data{i+1}'] =\\\n",
        "        [f'{np.mean(dataX):.2f}',\n",
        "         f'{np.var(dataX):.2f}',\n",
        "         f'{np.mean(dataY):.2f}',\n",
        "         f'{np.var(dataY):.2f}',\n",
        "         f'{np.corrcoef(dataX, dataY)[0, 1]:.2f}',\n",
        "         f'{poly_fit[1]:.2f}+{poly_fit[0]:.2f}x']\n",
        "stats_df"
      ]
    },
    {
      "cell_type": "code",
      "execution_count": 53,
      "metadata": {
        "ExecuteTime": {
          "end_time": "2018-08-14T06:40:20.368592Z",
          "start_time": "2018-08-14T06:40:20.053270Z"
        },
        "scrolled": false,
        "colab": {
          "base_uri": "https://localhost:8080/",
          "height": 729
        },
        "id": "O8GRNCLpsMz_",
        "outputId": "1f10f3ed-f30f-4358-de5d-8f600ef1ec6c"
      },
      "outputs": [
        {
          "output_type": "display_data",
          "data": {
            "text/plain": [
              "<Figure size 720x720 with 4 Axes>"
            ],
            "image/png": "[encoded data removed]"
          },
          "metadata": {
            "needs_background": "light"
          }
        }
      ],
      "source": [
        "# 그래프를 그리기 위한 영역을 2x2개 생성\n",
        "fig, axes = plt.subplots(nrows=2, ncols=2, figsize=(10, 10),\n",
        "                         sharex=True, sharey=True)\n",
        "\n",
        "xs = np.linspace(0, 30, 100)\n",
        "for i, data in enumerate(anscombe_data):\n",
        "    poly_fit = np.polyfit(data[:,0], data[:,1], 1)\n",
        "    poly_1d = np.poly1d(poly_fit)\n",
        "    ys = poly_1d(xs)\n",
        "    # 그리는 영역을 선택\n",
        "    ax = axes[i//2, i%2]\n",
        "    ax.set_xlim([4, 20])\n",
        "    ax.set_ylim([3, 13])\n",
        "    # 타이틀을 부여\n",
        "    ax.set_title(f'data{i+1}')\n",
        "    ax.scatter(data[:,0], data[:,1])\n",
        "    ax.plot(xs, ys, color='gray')\n",
        "\n",
        "# 그래프 사이의 간격을 좁힘\n",
        "plt.tight_layout()\n",
        "plt.show()"
      ]
    },
    {
      "cell_type": "code",
      "execution_count": 53,
      "metadata": {
        "id": "2Zvijg-TsM0A"
      },
      "outputs": [],
      "source": [
        ""
      ]
    },
    {
      "cell_type": "code",
      "execution_count": 53,
      "metadata": {
        "id": "gkXs2GBFsM0A"
      },
      "outputs": [],
      "source": [
        ""
      ]
    }
  ],
  "metadata": {
    "kernelspec": {
      "display_name": "Python 3",
      "language": "python",
      "name": "python3"
    },
    "language_info": {
      "codemirror_mode": {
        "name": "ipython",
        "version": 3
      },
      "file_extension": ".py",
      "mimetype": "text/x-python",
      "name": "python",
      "nbconvert_exporter": "python",
      "pygments_lexer": "ipython3",
      "version": "3.7.4"
    },
    "toc": {
      "nav_menu": {},
      "number_sections": true,
      "sideBar": true,
      "skip_h1_title": false,
      "toc_cell": false,
      "toc_position": {},
      "toc_section_display": "block",
      "toc_window_display": false
    },
    "colab": {
      "name": "chap03.ipynb",
      "provenance": [],
      "collapsed_sections": []
    }
  },
  "nbformat": 4,
  "nbformat_minor": 0
}